{
 "cells": [
  {
   "cell_type": "code",
   "execution_count": 6,
   "metadata": {},
   "outputs": [],
   "source": [
    "import json\n",
    "import os\n",
    "from pathlib import Path\n",
    "from slugify import slugify\n",
    "import boto3\n",
    "from datetime import datetime, timezone\n",
    "import tempfile"
   ]
  },
  {
   "cell_type": "code",
   "execution_count": 7,
   "metadata": {},
   "outputs": [],
   "source": [
    "def create_folder(path: str | None) -> str | None:\n",
    "    if not path:\n",
    "        return None\n",
    "\n",
    "    Path(path).mkdir(parents=True, exist_ok=True)\n",
    "\n",
    "    return path"
   ]
  },
  {
   "cell_type": "code",
   "execution_count": 8,
   "metadata": {},
   "outputs": [],
   "source": [
    "def create_json(name: str, description: str, source: str, films: list) -> str:\n",
    "    return json.dumps({\n",
    "            \"name\": name,\n",
    "            \"description\": description,\n",
    "            \"source\": source,\n",
    "            \"updated\": datetime.now(timezone.utc).isoformat(),\n",
    "            \"films\": films\n",
    "        }, indent=True)"
   ]
  },
  {
   "cell_type": "code",
   "execution_count": 9,
   "metadata": {},
   "outputs": [],
   "source": [
    "def save_to_s3(file: Path, filename: str | None):\n",
    "    s3 = boto3.resource('s3',\n",
    "        endpoint_url = os.getenv(\"R2_ENDPOINT\"),\n",
    "        aws_access_key_id = os.getenv(\"R2_ACCESS_KEY_ID\"),\n",
    "        aws_secret_access_key = os.getenv(\"R2_ACCESS_KEY_SECRET\")\n",
    "    )\n",
    "\n",
    "    if filename is None:\n",
    "        filename = file.name\n",
    " \n",
    "    s3.Object(os.getenv(\"R2_BUCKET_NAME\"), filename).upload_file(str(file)) # type: ignore // boto3 appears to be poorly typed"
   ]
  },
  {
   "cell_type": "code",
   "execution_count": 10,
   "metadata": {},
   "outputs": [],
   "source": [
    "def save(name: str, description: str, source: str, films: list):\n",
    "    temp_file = tempfile.NamedTemporaryFile()\n",
    "\n",
    "    with open(temp_file.name, \"w\") as file:\n",
    "        file.write(create_json(name, description, source, films))\n",
    "    \n",
    "    save_to_s3(Path(temp_file.name), slugify(name) + \".json\")\n",
    "\n",
    "    # output R2 URL\n",
    "    public_endpoint = os.getenv(\"R2_PUBLIC_URL\")\n",
    "    if public_endpoint:\n",
    "        print(public_endpoint + \"/\" + slugify(name) + \".json\")"
   ]
  }
 ],
 "metadata": {
  "kernelspec": {
   "display_name": ".venv",
   "language": "python",
   "name": "python3"
  },
  "language_info": {
   "codemirror_mode": {
    "name": "ipython",
    "version": 3
   },
   "file_extension": ".py",
   "mimetype": "text/x-python",
   "name": "python",
   "nbconvert_exporter": "python",
   "pygments_lexer": "ipython3",
   "version": "3.11.0"
  },
  "orig_nbformat": 4,
  "vscode": {
   "interpreter": {
    "hash": "ec701a7ddd59b62154d9a0b4c07d5083824cf650501aac7a9f4be3de31559643"
   }
  }
 },
 "nbformat": 4,
 "nbformat_minor": 2
}
