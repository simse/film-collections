{
 "cells": [
  {
   "cell_type": "code",
   "execution_count": 2,
   "metadata": {},
   "outputs": [
    {
     "data": {
      "text/plain": [
       "True"
      ]
     },
     "execution_count": 2,
     "metadata": {},
     "output_type": "execute_result"
    }
   ],
   "source": [
    "from dotenv import load_dotenv\n",
    "load_dotenv()"
   ]
  },
  {
   "cell_type": "code",
   "execution_count": 3,
   "metadata": {},
   "outputs": [],
   "source": [
    "import pandas as pd\n",
    "import os"
   ]
  },
  {
   "cell_type": "code",
   "execution_count": 10,
   "metadata": {},
   "outputs": [],
   "source": [
    "%run ./utils/save_result.ipynb"
   ]
  },
  {
   "cell_type": "code",
   "execution_count": 5,
   "metadata": {},
   "outputs": [],
   "source": [
    "# load table from wikipedia\n",
    "tables = pd.read_html(\"https://en.wikipedia.org/wiki/Christopher_Nolan_filmography\")\n",
    "\n",
    "filmography_table = tables[1]"
   ]
  },
  {
   "cell_type": "code",
   "execution_count": 6,
   "metadata": {},
   "outputs": [],
   "source": [
    "# filter out table where he wasn't the director\n",
    "filmography_table = filmography_table[filmography_table[\"Director\"] == \"Yes\"] "
   ]
  },
  {
   "cell_type": "code",
   "execution_count": 7,
   "metadata": {},
   "outputs": [],
   "source": [
    "# drop irrelevant columns\n",
    "filmography_table = filmography_table.drop([\"Director\", \"Writer\", \"Producer\", \"Notes\", \"Ref(s)\"], axis=1)"
   ]
  },
  {
   "cell_type": "code",
   "execution_count": 8,
   "metadata": {},
   "outputs": [],
   "source": [
    "# convert dataframe to exportable list\n",
    "films = []\n",
    "\n",
    "for film in filmography_table.values.tolist():\n",
    "    films.append({\n",
    "        \"title\": film[1],\n",
    "        \"year\": film[0],\n",
    "        \"director\": \"Christopher Nolan\"\n",
    "    })"
   ]
  },
  {
   "cell_type": "code",
   "execution_count": 9,
   "metadata": {},
   "outputs": [],
   "source": [
    "save(\"Christopher Nolan Feature Films\", \"All feature films directed by Christopher Nolan\", \"https://en.wikipedia.org/wiki/Christopher_Nolan_filmography\", films) # type: ignore"
   ]
  }
 ],
 "metadata": {
  "kernelspec": {
   "display_name": ".venv",
   "language": "python",
   "name": "python3"
  },
  "language_info": {
   "codemirror_mode": {
    "name": "ipython",
    "version": 3
   },
   "file_extension": ".py",
   "mimetype": "text/x-python",
   "name": "python",
   "nbconvert_exporter": "python",
   "pygments_lexer": "ipython3",
   "version": "3.11.0"
  },
  "orig_nbformat": 4,
  "vscode": {
   "interpreter": {
    "hash": "ec701a7ddd59b62154d9a0b4c07d5083824cf650501aac7a9f4be3de31559643"
   }
  }
 },
 "nbformat": 4,
 "nbformat_minor": 2
}
